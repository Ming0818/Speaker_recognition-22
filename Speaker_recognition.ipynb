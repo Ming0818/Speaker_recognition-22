{
 "cells": [
  {
   "cell_type": "code",
   "execution_count": 1,
   "metadata": {
    "collapsed": false
   },
   "outputs": [],
   "source": [
    "import sys, os\n",
    "\n",
    "sys.path.append(os.path.abspath(\"forStudents\"))\n",
    "sys.path.append(os.path.abspath(\"Images\"))"
   ]
  },
  {
   "cell_type": "code",
   "execution_count": 2,
   "metadata": {
    "collapsed": true
   },
   "outputs": [],
   "source": [
    "import numpy as np\n",
    "from numpy.matlib import repmat\n",
    "import pandas as pd\n",
    "import matplotlib.pyplot as plt\n",
    "from scipy.io import loadmat\n",
    "\n",
    "%matplotlib inline"
   ]
  },
  {
   "cell_type": "code",
   "execution_count": 3,
   "metadata": {
    "collapsed": true
   },
   "outputs": [],
   "source": [
    "from scipy.io import wavfile"
   ]
  },
  {
   "cell_type": "code",
   "execution_count": 4,
   "metadata": {
    "collapsed": false
   },
   "outputs": [],
   "source": [
    "dataset = wavfile.read(\"forStudents/timit/train/dr1/fdaw0/sa1.wav\")"
   ]
  },
  {
   "cell_type": "code",
   "execution_count": 5,
   "metadata": {
    "collapsed": false
   },
   "outputs": [
    {
     "data": {
      "text/plain": [
       "(53556,)"
      ]
     },
     "execution_count": 5,
     "metadata": {},
     "output_type": "execute_result"
    }
   ],
   "source": [
    "dataset[1].shape"
   ]
  },
  {
   "cell_type": "code",
   "execution_count": 6,
   "metadata": {
    "collapsed": false
   },
   "outputs": [],
   "source": [
    "y = dataset[1]\n",
    "x = np.linspace(0, y.shape[0], y.shape[0])"
   ]
  },
  {
   "cell_type": "code",
   "execution_count": 7,
   "metadata": {
    "collapsed": false,
    "scrolled": true
   },
   "outputs": [
    {
     "data": {
      "text/plain": [
       "[<matplotlib.lines.Line2D at 0x2337f3069b0>]"
      ]
     },
     "execution_count": 7,
     "metadata": {},
     "output_type": "execute_result"
    },
    {
     "data": {
      "image/png": "[encoded data removed]",
      "text/plain": [
       "<matplotlib.figure.Figure at 0x2337f22de10>"
      ]
     },
     "metadata": {},
     "output_type": "display_data"
    }
   ],
   "source": [
    "plt.plot(x, y)"
   ]
  },
  {
   "cell_type": "markdown",
   "metadata": {},
   "source": [
    "### Task 1: Frame Segmentation\n",
    "- Audio data: divided into frames of length $t_{frame}=20ms$ with feed $t_{feed}=10ms$ between 2 neighboring frames:\n",
    "<img src='Images/speaker/1_frame_segmentation.JPG' width='400'>\n",
    "- where $f_s$: sample frequency = dataset[0] = 16000 = 16kHz\n",
    "- So, each frame will contain 16000 * 20ms = 320 samples.\n",
    "<img src='Images/speaker/2_frame_segmentation.JPG' width='300'>\n",
    "- As the above figure, we have the offset which is defined by $t_{feed} * f_s = 10ms * 16000 = 160$"
   ]
  },
  {
   "cell_type": "code",
   "execution_count": 8,
   "metadata": {
    "collapsed": false
   },
   "outputs": [],
   "source": [
    "# Implement frame segmentation:\n",
    "import math # For python 3.x, for python 2.x, use int\n",
    "def frame_segment(full_frame, frame_length=320, offset=160):\n",
    "    no_samples = full_frame.shape[0]\n",
    "    no_frames = math.floor((no_samples - frame_length) / offset + 1)\n",
    "    frame_matrix = np.empty([no_frames, frame_length])\n",
    "    for k in range(0, no_frames):\n",
    "        start = k * offset\n",
    "        end = start + frame_length\n",
    "        frame = full_frame[start:end]\n",
    "        frame_matrix[k, ] = frame\n",
    "    return frame_matrix, no_frames"
   ]
  },
  {
   "cell_type": "code",
   "execution_count": 9,
   "metadata": {
    "collapsed": true
   },
   "outputs": [],
   "source": [
    "def plot_frame(frame):\n",
    "    y = frame\n",
    "    x = np.linspace(0, frame.shape[0], frame.shape[0])\n",
    "    plt.plot(x, y)"
   ]
  },
  {
   "cell_type": "code",
   "execution_count": 10,
   "metadata": {
    "collapsed": true
   },
   "outputs": [],
   "source": [
    "frame_matrix, no_frames = frame_segment(y)"
   ]
  },
  {
   "cell_type": "code",
   "execution_count": 11,
   "metadata": {
    "collapsed": false
   },
   "outputs": [
    {
     "data": {
      "text/plain": [
       "(333, 320)"
      ]
     },
     "execution_count": 11,
     "metadata": {},
     "output_type": "execute_result"
    }
   ],
   "source": [
    "frame_matrix.shape"
   ]
  },
  {
   "cell_type": "code",
   "execution_count": 12,
   "metadata": {
    "collapsed": false
   },
   "outputs": [
    {
     "data": {
      "text/plain": [
       "106560"
      ]
     },
     "execution_count": 12,
     "metadata": {},
     "output_type": "execute_result"
    }
   ],
   "source": [
    "333*320"
   ]
  },
  {
   "cell_type": "markdown",
   "metadata": {},
   "source": [
    "### Task 2: Voice Activity Detection\n",
    "- There are some silence frames, in which speaker takes breath or stop for the next sentence. In general, it is not a good reason to extract features from the unvoiced frames, because it contains only background noise. \n",
    "- Therefore, we need to separate Voice frames from Unvoiced frames using voice activity detection. The detection will be implemented using the basis of signal and noise power. \n",
    "<img src='Images/speaker/3_voice_activity.JPG' width='450'>\n",
    "- The invidual steps of a simple voice activity detection are:\n",
    "    - **Step 1**: Calculate the Signal and noise power P(k) for the k-th frame:\n",
    "    $$P(k) = \\frac{1}{L}\\sum{{x_k}^2(i)}$$\n",
    "    - **Step 2**: It can be assumed that the first $t_n=100ms$ of every audio file contains no speech => Use this for noise sample $P_N$ using the first K frames (contain only noise):\n",
    "    $$ K = \\lfloor{\\frac{t_n}{t_{feed}}-1\\rfloor}$$\n",
    "    \n",
    "    $$ P_N = \\frac{1}{K} \\sum{P(k)}$$\n",
    "    - **Step 3**: All frames with a Signal and Noise power greater than $\\gamma$ times the noise power are assumed to be voiced, other as unvoiced\n",
    "    <img src='Images/speaker/4_P_k.JPG' width='150'>"
   ]
  },
  {
   "cell_type": "code",
   "execution_count": 13,
   "metadata": {
    "collapsed": false
   },
   "outputs": [],
   "source": [
    "# Implement voice frame detection\n",
    "def frame_power(frame, frame_length=320):\n",
    "    squared_frame = frame ** 2\n",
    "    power = squared_frame.sum() / frame_length\n",
    "    return power\n",
    "\n",
    "def noise_power(frame_matrix, t_n=0.1, t_feed=0.01):\n",
    "    no_noise_frame = math.floor(t_n / t_feed - 1)\n",
    "    noise_power = 0\n",
    "    for i in range(0, no_noise_frame):\n",
    "        noise_power += frame_power(frame_matrix[i, ])\n",
    "    return noise_power / no_noise_frame\n",
    "\n",
    "def frames_with_voice(frame_matrix, gamma=17):\n",
    "    list_power = []\n",
    "    noise = noise_power(frame_matrix)\n",
    "    for i in range(0, frame_matrix.shape[0]):\n",
    "        if frame_power(frame_matrix[i]) > gamma*noise:\n",
    "            list_power.append(i)\n",
    "    return frame_matrix[list_power, :]"
   ]
  },
  {
   "cell_type": "code",
   "execution_count": 14,
   "metadata": {
    "collapsed": false
   },
   "outputs": [],
   "source": [
    "voiced_frames = frames_with_voice(frame_matrix, gamma=17)"
   ]
  },
  {
   "cell_type": "markdown",
   "metadata": {},
   "source": [
    "### Feature Extraction\n",
    "#### Features for Speaker Recognition:\n",
    "- Features: independent from what is spoken (no matter what that person said), and differ as much as possible between speakers.\n",
    "- Robust to background noise.\n",
    "- Occur frequently in normal speech.\n",
    "- Hard to distort the features by disguising another voice\n",
    "- Illness, tiredness, mood and age should not negatively affect the recognition performance.\n",
    "\n",
    "- As the dimensions and properties of the vocal tract are different from person to person, everyone has a characteristic and unique voice.\n",
    "- Goal: extract features from the spectrum which map these characteristic properties and allow us to differentiate between different persons.\n",
    "- Two feature types based on speech spectrum:\n",
    "    - Linear Predictive Cepstral Coefficients (LPCCs)\n",
    "    - Mel Frequency Cepstral Coefficients (MFCCs)\n",
    "    \n",
    "#### Mel Frequency Cepstral Coefficients (MFCCs) \n",
    "##### Mel Scale:\n",
    "- Mel scale is a piecewise defined function:\n",
    "<img src='Images/speaker/5_mel_scale.JPG' width='250'>\n",
    "- Mel scale is linear up to 1kHz and logarithmic above\n",
    "##### Windowing:\n",
    "- Due to the finite length of the frames, they will occur leakage effects after Fourier Transformation. To minimize the effect, a proper windowing function has to be used.\n",
    "##### Mel Filter Bank:\n",
    "- To convert the spectrum to Mel scale spectrum, a Mel filter bank can be used.\n",
    "- Mel filter bank: multiple triangular shaped bandpass filters with their bandwidths defined by the Mel scale function.\n",
    "http://practicalcryptography.com/miscellaneous/machine-learning/guide-mel-frequency-cepstral-coefficients-mfccs/\n",
    "- We use a filter bank of M = 22 filters\n",
    "<img src='Images/speaker/6_mel_filter_bank.JPG' width='300'>\n",
    "\n",
    "#### How to calculate the MFCC:\n",
    "- Frame the signal into short frames.\n",
    "- For each frame calculate the periodogram estimate of the power spectrum.\n",
    "- Apply the mel filterbank to the power spectra, sum the energy in each filter.\n",
    "- Take the logarithm of all filterbank energies.\n",
    "- Take the DCT of the log filterbank energies.\n",
    "- Keep DCT coefficients 2-13, discard the rest.\n",
    "\n",
    "#### Understanding\n",
    "- An audio signal is constantly changing, so we assume short frames contain audio signal that doesn't change much. That's why we frame the signal into 20 - 40ms frames (shorter frame will not give us reliable spectral estimate, and longer frame means the signal changes too much throughout the frames)\n",
    "- The next step is to calculate the power spectrum of each frame. This is motivated by the human cochlea (an organ in the ear) which vibrates at different spots depending on the frequency of the incoming sounds. Depending on the location in the cochlea that vibrates (which wobbles small hairs), different nerves fire informing the brain that certain frequencies are present. Our **periodogram** estimate performs a similar job for us, identifying which frequencies are present in the frame.\n",
    "- Periodogram spectral estimate still contains a lot of information not required for Automatic Speech Recognition (ASR) i.e cannot differentiate between two closely spaced frequencies. The effect becomes more pronounced as the frequencies increase. For this reason, clumps of periodogram bins are taken and then summed up to get an idea of how much energy exists in various frequency regions. \n",
    "- Mel filter bank: first filter is very narrow, and gives an indication of how much energy exists near 0 Hz. As the frequencies get higher our filters become wider because we care less about variations. We are only interested in roughly how much energy occurs at each spot. The Mel scale tells us exactly how to space our filterbanks and how wide to make them. \n",
    "- Once we have the filterbank energies, we take the logarithm of them. (We don't hear loudness on a linear scale).\n",
    "- Final step is to compute DCT of the log filterbank energies. Because the filterbanks are all overlapping, the filterbank energies are quite correlated with each other. The DCT decorrelates the energies which means diagonal covariance matrices can be used to model the features in a classifier. "
   ]
  },
  {
   "cell_type": "code",
   "execution_count": 15,
   "metadata": {
    "collapsed": true
   },
   "outputs": [],
   "source": [
    "# Implement Mel Scale Function and Inverse Mel Scale Function\n",
    "def mel_scale(frequency):\n",
    "    if frequency <= 1000:\n",
    "        return frequency\n",
    "    else:\n",
    "        return 2595 * np.log10(1 + frequency / 700)\n",
    "    \n",
    "def inverse_mel_scale(mel_frequency):\n",
    "    if mel_frequency <= 1000:\n",
    "        return mel_frequency\n",
    "    else:\n",
    "        return (10**(mel_frequency / 2595) - 1) * 700\n",
    "        "
   ]
  },
  {
   "cell_type": "markdown",
   "metadata": {},
   "source": [
    "### Mel Filter Bank:\n",
    "- To get the filter bank, we first have to choose a lower and upper frequency. (e.g. 300Hz for Lower and 8000Hz for upper (or half the sample frequency)).\n",
    "- Using Mel Scale Function to convert upper and lower frequencies to Mel Frequencies. (401.25 Mels and 2834.99 Mels)\n",
    "- Then we need M additinal points spaced linearly between 401.25 and 2834.99 (M is the number of filters in our filterbank). For example, M = 10, we have:\n",
    "```python\n",
    "m(i) = [401.25, 622.50, 843.75, 1065.00, 1286.25, 1507.50, 1728.74, 1949.99, 2171.24, 2392.49, 2613.74, 2834.99]\n",
    "```\n",
    "- Then convert back to Hertz using inverse Mel function\n",
    "```python\n",
    "h(i) = [300, 517.33, 781.90, 1103.97, 1496.04, 1973.32, 2554.33, 3261.62, 4122.63, 5170.76, 6446.70, 8000]\n",
    "```\n",
    "- We don't have the frequency resolution required to put filters at the exact points calculated above, so we need to round those frequencies to the nearest FFT bin. We need FFT size and the sample rate, i.e: 512 and 16000Hz\n",
    "```python\n",
    "f(i)=floor((nfft+1)*h(i)/samplerate)\n",
    "```\n",
    "- Now we create our filterbanks. The first filterbank will start at the first point, reach its peak at the second point, then return to zero at the 3rd point. The second filterbank will start at the 2nd point, reach its max at the 3rd, then be zero at the 4th etc. A formula for calculating these is as follows:\n",
    "<img src='Images/speaker/7_calculate_filter_bank.JPG' width='300'>"
   ]
  },
  {
   "cell_type": "code",
   "execution_count": 16,
   "metadata": {
    "collapsed": true
   },
   "outputs": [],
   "source": [
    "# Implement Mel Filter Bank\n",
    "def mel_filter_bank(no_filters=22, frame_length=320, \n",
    "                   lower_f=0, upper_f=None, nfft=512,\n",
    "                   sample_rate=16000):\n",
    "    upper_f = upper_f or sample_rate / 2\n",
    "    assert upper_f <= sample_rate / 2, \"upper_f must be lower or equal sample_rate / 2\"\n",
    "    \n",
    "    no_points = no_filters + 2\n",
    "    mel_range = np.array(list(map(mel_scale, [lower_f, upper_f])))\n",
    "    mel_range = np.linspace(mel_range[0], mel_range[1], no_points)\n",
    "    filter_freq = np.array(list(map(inverse_mel_scale, mel_range)))\n",
    "    #filter_freq = np.floor((nfft + 1) * filter_freq / sample_rate)\n",
    "    filter_bank = np.zeros((no_filters, frame_length))\n",
    "    # Create range of frequencies between lower and upper frequencies\n",
    "    f_range = np.linspace(lower_f, upper_f, frame_length)\n",
    "    for i in range(1, no_filters + 1):\n",
    "        for j, k in enumerate(f_range): \n",
    "            if k < filter_freq[i - 1]:\n",
    "                filter_bank[i-1, j] = 0\n",
    "            elif k >= filter_freq[i - 1] and k <= filter_freq[i]:\n",
    "                \n",
    "                filter_bank[i-1, j] = (k - filter_freq[i-1]) / (filter_freq[i] - filter_freq[i-1])\n",
    "                \n",
    "            elif k >= filter_freq[i] and k <= filter_freq[i+1]:\n",
    "                filter_bank[i-1, j] = (filter_freq[i + 1] - k) / (filter_freq[i+1] - filter_freq[i])\n",
    "            else:\n",
    "                filter_bank[i-1, j] = 0        \n",
    "    return filter_bank"
   ]
  },
  {
   "cell_type": "code",
   "execution_count": 17,
   "metadata": {
    "collapsed": false
   },
   "outputs": [],
   "source": [
    "def mel_filter_bank_2(no_filters=22, frame_length=320, \n",
    "                   lower_f=0, upper_f=None, nfft=512,\n",
    "                   sample_rate=16000):\n",
    "    upper_f = upper_f or sample_rate / 2\n",
    "    assert upper_f <= sample_rate / 2, \"upper_f must be lower or equal sample_rate / 2\"\n",
    "    \n",
    "    no_points = no_filters + 2\n",
    "    mel_range = np.array(list(map(mel_scale, [lower_f, upper_f])))\n",
    "    mel_range = np.linspace(mel_range[0], mel_range[1], no_points)\n",
    "    filter_freq = np.array(list(map(inverse_mel_scale, mel_range)))\n",
    "\n",
    "    filter_freq = np.floor((nfft + 1) * filter_freq / sample_rate)\n",
    "    print(filter_freq)\n",
    "    filter_bank = np.zeros((no_filters, frame_length))\n",
    "    for j in range(0, no_filters):\n",
    "        for i in range(int(filter_freq[j]), int(filter_freq[j+1])):\n",
    "            filter_bank[j, i] = (i - filter_freq[j]) / (filter_freq[j+1] - filter_freq[j])\n",
    "        for i in range(int(filter_freq[j+1]), int(filter_freq[j+2])):\n",
    "            filter_bank[j, i] = (filter_freq[j+2] - i) / (filter_freq[j+2] - filter_freq[j+1])\n",
    "    return filter_bank\n",
    "        "
   ]
  },
  {
   "cell_type": "code",
   "execution_count": 18,
   "metadata": {
    "collapsed": false
   },
   "outputs": [],
   "source": [
    "filter_bank = mel_filter_bank(no_filters=22)"
   ]
  },
  {
   "cell_type": "code",
   "execution_count": 19,
   "metadata": {
    "collapsed": false
   },
   "outputs": [
    {
     "data": {
      "image/png": "[encoded data removed]",
      "text/plain": [
       "<matplotlib.figure.Figure at 0x2337f7d2630>"
      ]
     },
     "metadata": {},
     "output_type": "display_data"
    }
   ],
   "source": [
    "f_range = np.linspace(0, 8000, 320)\n",
    "for i in range(0, filter_bank.shape[0]):\n",
    "    plt.plot(f_range, filter_bank[i, ])"
   ]
  },
  {
   "cell_type": "markdown",
   "metadata": {},
   "source": [
    "- Implement a function to compute the MFCC feature vector of a frame from the Mel filter bank output by using Discrete Fourier Transform\n",
    "- DCT Function:\n",
    "<img src='Images/speaker/9_DCT.JPG' width='300'>\n",
    "- where Y(m) is the output of the Mel Filter Bank, n=0 is the offset and DCT values above n=15 will not be used.\n",
    "- We only use n from 1 to 15.\n",
    "<img src='Images/speaker/10_feature_pipeline.JPG' width='450'>\n",
    "- We need to calculate the power spectrum for the input frames using Discrete Fourier Transform (DFT)\n",
    "#### Power Spectrum calculation\n",
    "- We have our time domain framed signal $s_i(n)$ where i vary over number of frames and n ranges over number of frame samples, or Frame Length (in our case, N = 320, so n is from 0 to 319).\n",
    "- First we need to take DFT of $s_i(n)$ to have $S_i(k)$ of each frame i and then evaluate the power spectrum $P_i(k)$ for frame i\n",
    "<img src='Images/speaker/11_DFT.JPG' width='450'>\n",
    "- where $h(n)$ is N=320 sample Hamming window and K(=320) is the length of DFT. The windowing is done to minimize the leakage effects after DFT as the frame size is of finite length. The power spectral given by:\n",
    "<img src='Images/speaker/12_Power.JPG' width='150'>"
   ]
  },
  {
   "cell_type": "code",
   "execution_count": 20,
   "metadata": {
    "collapsed": false
   },
   "outputs": [
    {
     "data": {
      "text/plain": [
       "[<matplotlib.lines.Line2D at 0x2337f778438>]"
      ]
     },
     "execution_count": 20,
     "metadata": {},
     "output_type": "execute_result"
    },
    {
     "data": {
      "image/png": "[encoded data removed]",
      "text/plain": [
       "<matplotlib.figure.Figure at 0x2337f6f10b8>"
      ]
     },
     "metadata": {},
     "output_type": "display_data"
    }
   ],
   "source": [
    "# Hamming window\n",
    "from scipy import hamming\n",
    "from scipy.fftpack import fft, dct\n",
    "\n",
    "plt.plot(np.linspace(0, 320, 320), hamming(320))"
   ]
  },
  {
   "cell_type": "code",
   "execution_count": 21,
   "metadata": {
    "collapsed": false,
    "scrolled": true
   },
   "outputs": [
    {
     "data": {
      "text/plain": [
       "[<matplotlib.lines.Line2D at 0x2337f96bda0>]"
      ]
     },
     "execution_count": 21,
     "metadata": {},
     "output_type": "execute_result"
    },
    {
     "data": {
      "image/png": "[encoded data removed]",
      "text/plain": [
       "<matplotlib.figure.Figure at 0x2337f793ef0>"
      ]
     },
     "metadata": {},
     "output_type": "display_data"
    }
   ],
   "source": [
    "# Voice frame\n",
    "plt.plot(np.linspace(0, 320, 320), voiced_frames[0])"
   ]
  },
  {
   "cell_type": "code",
   "execution_count": 22,
   "metadata": {
    "collapsed": false
   },
   "outputs": [
    {
     "data": {
      "text/plain": [
       "[<matplotlib.lines.Line2D at 0x2337f9d7cc0>]"
      ]
     },
     "execution_count": 22,
     "metadata": {},
     "output_type": "execute_result"
    },
    {
     "data": {
      "image/png": "[encoded data removed]",
      "text/plain": [
       "<matplotlib.figure.Figure at 0x2337f977828>"
      ]
     },
     "metadata": {},
     "output_type": "display_data"
    }
   ],
   "source": [
    "# Vs frame after hamming \n",
    "plt.plot(np.linspace(0, 320, 320), voiced_frames[0]*hamming(320))"
   ]
  },
  {
   "cell_type": "code",
   "execution_count": 23,
   "metadata": {
    "collapsed": true
   },
   "outputs": [],
   "source": [
    "# Calculate power spectrum\n",
    "def cal_power_spectrum(voiced_frames, frame_length=320,\n",
    "                      window='hamming', dft_length=None):\n",
    "    dft_length = dft_length or frame_length\n",
    "    if window == 'hamming':\n",
    "        window = hamming(frame_length)\n",
    "    else:\n",
    "        raise NotImplementedError\n",
    "    no_frames = voiced_frames.shape[0]\n",
    "    power_spectrum = np.zeros((no_frames , dft_length))\n",
    "    for i in range(0, no_frames):\n",
    "        frame = voiced_frames[i, ]\n",
    "        frame = frame * window # Using hamming window\n",
    "        # Perform DCT\n",
    "        dct_frame = abs(fft(frame, n=512))\n",
    "        dct_frame = dct_frame[:dft_length]\n",
    "        power_spec = dct_frame ** 2 / frame_length\n",
    "        power_spectrum[i, ] = power_spec\n",
    "    return power_spectrum\n",
    "        \n",
    "    "
   ]
  },
  {
   "cell_type": "code",
   "execution_count": 24,
   "metadata": {
    "collapsed": false
   },
   "outputs": [
    {
     "data": {
      "text/plain": [
       "[<matplotlib.lines.Line2D at 0x2337fa455c0>]"
      ]
     },
     "execution_count": 24,
     "metadata": {},
     "output_type": "execute_result"
    },
    {
     "data": {
      "image/png": "[encoded data removed]",
      "text/plain": [
       "<matplotlib.figure.Figure at 0x2337f9b09b0>"
      ]
     },
     "metadata": {},
     "output_type": "display_data"
    }
   ],
   "source": [
    "x = np.linspace(0, 320, 320)\n",
    "plt.plot(x, cal_power_spectrum(voiced_frames)[1])"
   ]
  },
  {
   "cell_type": "code",
   "execution_count": 25,
   "metadata": {
    "collapsed": false
   },
   "outputs": [
    {
     "data": {
      "text/plain": [
       "(22,)"
      ]
     },
     "execution_count": 25,
     "metadata": {},
     "output_type": "execute_result"
    }
   ],
   "source": [
    "# Apply Mel Filter Bank to the power spectrum\n",
    "# full filter bank\n",
    "power_spectrum = cal_power_spectrum(voiced_frames)\n",
    "fil_to_spec = np.dot(filter_bank, power_spectrum[1])\n",
    "fil_to_spec.shape"
   ]
  },
  {
   "cell_type": "code",
   "execution_count": 26,
   "metadata": {
    "collapsed": false
   },
   "outputs": [],
   "source": [
    "def extract_features(filter_bank_energy, power_spectrum, n=15):\n",
    "    feature_vector = np.zeros((power_spectrum.shape[0], n))\n",
    "    for i in range(0, power_spectrum.shape[0]):\n",
    "        # Compute energy filter bank of the power spectrum of a frame\n",
    "        feature_temp = np.dot(filter_bank, power_spectrum[i])\n",
    "        # If feature is zero, we get problems with log, so remove\n",
    "        feature_temp = np.where(feature_temp==0, np.finfo(float).eps,\n",
    "                               feature_temp)\n",
    "        # Take log\n",
    "        feature_temp = np.log10(feature_temp)\n",
    "        # Take DCT, so it will give us 22 (number of filters) \n",
    "        # cepstral coefficients\n",
    "        feature_temp = dct(feature_temp)\n",
    "        # Only take 15 coefficients from 1 to 15\n",
    "        feature_temp = feature_temp[1:16]\n",
    "        # This is called the Mel Frequency Cepstral Coefficients\n",
    "        feature_vector[i, ] = feature_temp\n",
    "    return feature_vector"
   ]
  },
  {
   "cell_type": "code",
   "execution_count": 27,
   "metadata": {
    "collapsed": false
   },
   "outputs": [],
   "source": [
    "# Getting MFCCs:\n",
    "feature_vector = extract_features(filter_bank, power_spectrum)"
   ]
  },
  {
   "cell_type": "markdown",
   "metadata": {},
   "source": [
    "### Probabilistic Model of Speech\n",
    "- For each speaker, a Naive Gaussian Mixture Model (GMM) can be used to form a statistical model the MFCCs. \n",
    "- Naive: GMM has only diagonal covariance matrices.\n",
    "<img src='Images/speaker/13_pdf_gmm.JPG' width='200'>\n",
    "- Where x is the DCT function of the MFCC feature vector.\n",
    "- $\\mu_k$ is the mean\n",
    "- $C_k$ is the covariance matrix\n",
    "- K is the modes of GMM with $\\lambda$\n",
    "- Gaussian normal distribution for the general D-dimensional case:\n",
    "<img src='Images/speaker/14_d_gaussian.JPG' width='250'>\n",
    "- The weights have to satisfy the condition:\n",
    "$$\\sum_{k=1}^{K}{w_k} = 1$$\n",
    "- Every speaker is described by on GMM $\\lambda = \\{w_k, \\mu_k, C_k\\}$. Those parameters have to be estimated with a training algorithm from the training data of the specific speaker.\n",
    "#### Universal Background model\n",
    "- To reduce the amount of training data and the computational cost for training, a Universal Background Model (UBM) can be used which is pretrained on large dataset.\n",
    "- Good speaker models require a huge amount of training data such that the GMM parameters can be estimated as accurately as possible. But a speaker who wants to enroll into the system normally does not want to speak for more than a few seconds.\n",
    "- So if we want to have a good speaker model with **little** training data, we need a general speaker model or Universal Background Model (UBM) is often used. \n",
    "- Idea: all speakers have certain similarities (common features). The individual speaker models can be derived from the **general** speaker model and some specific features of that speaker from training data. \n",
    "- UBM is only trained once with a huge amount of training data, and then used as a parameter initialization for the training of the speaker models.\n",
    "- Naive GMM-UBM:\n",
    "$$p_{UBM}(x) = \\sum_{k=1}^{K}{\\omega_{UBM,k} * p(x|\\mu_{UBM,k}, C_{UBM,k})}$$\n",
    "- Those parameters are estimated from the UBM training data.\n",
    "- UBM used in this Lab is already trained from the training set of 462 speakers of the TIMIT database. UBM consists of K=49 naive Gaussian modes (diagonal covariance matrices) in a D=15 dimensional feature space.\n",
    "\n",
    "#### Speaker models adaption\n",
    "- The GMM spekear model for a particular speaker with his training data $X=\\{x_1, x_2, ... , x_t, ... x_T\\}$ adapted from the UBM-GMM equation above by modifying the parameters $\\{\\omega_{UBM,k}, \\mu_{UBM,k}, C_{UBM,k}\\}$. Therefore, we first calculate the posteriori probability of $x_t$ belongting to the k-th mode of the UBM-GMM by using the Bayes theorem"
   ]
  },
  {
   "cell_type": "code",
   "execution_count": 28,
   "metadata": {
    "collapsed": true
   },
   "outputs": [],
   "source": [
    "# Read UBM file:\n",
    "ubm = loadmat('forStudents/ubm/UBM_GMMNaive_MFCC_Spectrum0to8000Hz.mat')"
   ]
  },
  {
   "cell_type": "markdown",
   "metadata": {},
   "source": [
    "#### UBM file information:\n",
    "Documentation for UBM data structure:\n",
    "\n",
    "The file 'UBM_GMMNaive_MFCC_Spectrum0to8000Hz.mat' contains four variables:\n",
    "\n",
    "> 'K':\n",
    "   Number of mixture components in the GMM.\n",
    "\n",
    "> 'D':\n",
    "   Dimension of the gaussian normal distribution.\n",
    "\n",
    "> 'means':\n",
    "   A 'K' times 'D' dimensional double array, containing the means.\n",
    "\n",
    "> 'var':\n",
    "   A 'K' times 'D' dimensional double array, containing the diagonal elements of the covariance matrices.\n",
    "\n",
    "> 'weights':\n",
    "   A vector of size 'K' containing the weights for the individual mixture components."
   ]
  },
  {
   "cell_type": "code",
   "execution_count": 29,
   "metadata": {
    "collapsed": true
   },
   "outputs": [],
   "source": [
    "no_mix_component = ubm['K']"
   ]
  },
  {
   "cell_type": "code",
   "execution_count": 30,
   "metadata": {
    "collapsed": false
   },
   "outputs": [],
   "source": [
    "gauss_dim = ubm['D']"
   ]
  },
  {
   "cell_type": "code",
   "execution_count": 31,
   "metadata": {
    "collapsed": true
   },
   "outputs": [],
   "source": [
    "mean_mat = ubm['means']"
   ]
  },
  {
   "cell_type": "code",
   "execution_count": 32,
   "metadata": {
    "collapsed": true
   },
   "outputs": [],
   "source": [
    "covarience_mat = ubm['var']"
   ]
  },
  {
   "cell_type": "code",
   "execution_count": 33,
   "metadata": {
    "collapsed": true
   },
   "outputs": [],
   "source": [
    "weight_mat = ubm['weights']"
   ]
  },
  {
   "cell_type": "code",
   "execution_count": 34,
   "metadata": {
    "collapsed": false
   },
   "outputs": [
    {
     "data": {
      "text/plain": [
       "(49, 15)"
      ]
     },
     "execution_count": 34,
     "metadata": {},
     "output_type": "execute_result"
    }
   ],
   "source": [
    "mean_mat.shape"
   ]
  },
  {
   "cell_type": "code",
   "execution_count": 35,
   "metadata": {
    "collapsed": false
   },
   "outputs": [
    {
     "data": {
      "text/plain": [
       "(49, 15)"
      ]
     },
     "execution_count": 35,
     "metadata": {},
     "output_type": "execute_result"
    }
   ],
   "source": [
    "covarience_mat.shape"
   ]
  },
  {
   "cell_type": "code",
   "execution_count": 36,
   "metadata": {
    "collapsed": false
   },
   "outputs": [
    {
     "data": {
      "text/plain": [
       "(1, 49)"
      ]
     },
     "execution_count": 36,
     "metadata": {},
     "output_type": "execute_result"
    }
   ],
   "source": [
    "weight_mat.shape"
   ]
  },
  {
   "cell_type": "markdown",
   "metadata": {},
   "source": [
    "K = 49 Gaussian mode\n",
    "\n",
    "D = 15 Dimensional feature vector space\n"
   ]
  },
  {
   "cell_type": "code",
   "execution_count": 37,
   "metadata": {
    "collapsed": false
   },
   "outputs": [
    {
     "data": {
      "text/plain": [
       "(308, 15)"
      ]
     },
     "execution_count": 37,
     "metadata": {},
     "output_type": "execute_result"
    }
   ],
   "source": [
    "feature_vector.shape"
   ]
  },
  {
   "cell_type": "markdown",
   "metadata": {},
   "source": [
    "- To calculate posteriori probability, we first need the maximum likelihood function:\n",
    "$$p(x_t|\\mu_{UBM,k}, C_{UBM,k})$$\n",
    "... using multivariate normal distribution pdf"
   ]
  },
  {
   "cell_type": "code",
   "execution_count": 38,
   "metadata": {
    "collapsed": false
   },
   "outputs": [],
   "source": [
    "from scipy.stats import multivariate_normal\n",
    "\n",
    "def gaussian_ml_mvn(feature_vector, mean_mat, covarience_mat,\n",
    "                   num_mode=49):\n",
    "    N = feature_vector.shape[0] # Number of frames\n",
    "    # Maximum likelihood matrix will have N rows for N frames, \n",
    "    # and K columns for K mode\n",
    "    ml_mat = np.zeros((N, num_mode)) \n",
    "    for i in range(0, num_mode):\n",
    "        mean = mean_mat[i, ]\n",
    "        cov_mat = covarience_mat[i, ]\n",
    "        mvn = multivariate_normal(mean=mean, cov=cov_mat)\n",
    "        ml_mat[:, i] = mvn.pdf(feature_vector)\n",
    "    return ml_mat"
   ]
  },
  {
   "cell_type": "code",
   "execution_count": 39,
   "metadata": {
    "collapsed": false
   },
   "outputs": [
    {
     "data": {
      "text/plain": [
       "(308, 49)"
      ]
     },
     "execution_count": 39,
     "metadata": {},
     "output_type": "execute_result"
    }
   ],
   "source": [
    "ml_mat = gaussian_ml_mvn(feature_vector, mean_mat, covarience_mat)\n",
    "ml_mat.shape"
   ]
  },
  {
   "cell_type": "markdown",
   "metadata": {},
   "source": [
    "- Next we need to calculate the evidence for all the frames\n",
    "$$p_{UBM}(x) = \\sum_{k=1}^{K=49}{\\omega_{UBM,k} p(x|\\mu_{UBM,k}, C_{UBM,k})}$$"
   ]
  },
  {
   "cell_type": "code",
   "execution_count": 40,
   "metadata": {
    "collapsed": true
   },
   "outputs": [],
   "source": [
    "def cal_evidence_mat(feature_vector, ml_mat, weight_mat, \n",
    "                     num_mode=49):\n",
    "    N = feature_vector.shape[0]\n",
    "    evidence_mat = np.zeros((N, 1))\n",
    "    for i in range(0, N):\n",
    "        evidence = np.dot(weight_mat, ml_mat[i])\n",
    "        evidence_mat[i,] = evidence\n",
    "#     weight_mat = np.matlib.repmat(weight_mat, N, 1)\n",
    "#     evidence_mat = np.dot(weight_mat, ml_mat)\n",
    "    return evidence_mat"
   ]
  },
  {
   "cell_type": "code",
   "execution_count": 41,
   "metadata": {
    "collapsed": false
   },
   "outputs": [],
   "source": [
    "evidence_mat = cal_evidence_mat(feature_vector, ml_mat, weight_mat)"
   ]
  },
  {
   "cell_type": "code",
   "execution_count": 42,
   "metadata": {
    "collapsed": false
   },
   "outputs": [
    {
     "data": {
      "text/plain": [
       "(308, 1)"
      ]
     },
     "execution_count": 42,
     "metadata": {},
     "output_type": "execute_result"
    }
   ],
   "source": [
    "evidence_mat.shape"
   ]
  },
  {
   "cell_type": "code",
   "execution_count": 43,
   "metadata": {
    "collapsed": false
   },
   "outputs": [],
   "source": [
    "def cal_posteriori_mat(feature_vector, ml_mat, evidence_mat, \n",
    "                       weight_mat, num_mode=49):\n",
    "    N = feature_vector.shape[0]\n",
    "    posteriori_mat = np.zeros((N, num_mode))\n",
    "    for j in range(0, N):\n",
    "        posteriori = weight_mat * ml_mat[j, ] / evidence_mat[j] \n",
    "        posteriori_mat[j, ] = posteriori\n",
    "    return posteriori_mat"
   ]
  },
  {
   "cell_type": "code",
   "execution_count": 44,
   "metadata": {
    "collapsed": false
   },
   "outputs": [],
   "source": [
    "posteriori_mat = cal_posteriori_mat(feature_vector, ml_mat,\n",
    "                                   evidence_mat, weight_mat)"
   ]
  },
  {
   "cell_type": "code",
   "execution_count": 45,
   "metadata": {
    "collapsed": false
   },
   "outputs": [
    {
     "data": {
      "text/plain": [
       "(308, 49)"
      ]
     },
     "execution_count": 45,
     "metadata": {},
     "output_type": "execute_result"
    }
   ],
   "source": [
    "# We see that shape is 260, 49; So if we use matrix-wise operator\n",
    "# we can shorten the amount of calculation time (avoiding for loops)\n",
    "posteriori_mat.shape\n"
   ]
  },
  {
   "cell_type": "code",
   "execution_count": 46,
   "metadata": {
    "collapsed": false
   },
   "outputs": [],
   "source": [
    "def cal_posteriori_mat_opt(feature_vector, ml_mat, evidence_mat, \n",
    "                       weight_mat, num_mode=49):\n",
    "    N = feature_vector.shape[0]\n",
    "    # Repeat the weight_mat N times to form new weight_mat \n",
    "    #(N x 49) shape\n",
    "    weight_mat = repmat(weight_mat, N, 1) \n",
    "    posteriori_mat = (weight_mat * ml_mat) / evidence_mat\n",
    "    return posteriori_mat"
   ]
  },
  {
   "cell_type": "code",
   "execution_count": 47,
   "metadata": {
    "collapsed": false
   },
   "outputs": [],
   "source": [
    "posteriori_mat_opt = cal_posteriori_mat_opt(feature_vector, \n",
    "                                           ml_mat, evidence_mat,\n",
    "                                           weight_mat)"
   ]
  },
  {
   "cell_type": "code",
   "execution_count": 48,
   "metadata": {
    "collapsed": false
   },
   "outputs": [
    {
     "data": {
      "text/plain": [
       "array([[ 1.        ,  3.        ,  5.        ],\n",
       "       [ 4.5       ,  2.66666667,  1.25      ]])"
      ]
     },
     "execution_count": 48,
     "metadata": {},
     "output_type": "execute_result"
    }
   ],
   "source": [
    "# Understanding matrix operation\n",
    "a = np.array([[2, 3, 4],[3, 4, 5]])\n",
    "b = np.array([[1,3, 5], [3, 2, 1]])\n",
    "c = np.array([2, 3, 4])\n",
    "a * b / c"
   ]
  },
  {
   "cell_type": "markdown",
   "metadata": {
    "collapsed": true
   },
   "source": [
    "### Speaker Model Adaption\n",
    "- With the posteriori calculated above $P(k|x_t)$ and the training data $X$, the expectation value $\\mu$ and the covariance matrix $C$ of the new speaker model can be calculated.\n",
    "- First, we need to calculate the weighting of the UBM to the training data:\n",
    "$$n_k = \\sum_{t=1}^{T}{P(k|x_t)}$$\n",
    "- where T is the number of frames fragmented from the original audio frame, k is the k-th Gaussian mode (k = 1... 49) in this case\n",
    "- And then we can calculate the $\\alpha_k$:\n",
    "$$\\alpha_k = \\frac{n_k}{n_k + r}$$\n",
    "- where r is the relevance factor that can be chosen freely. Smaler r reduces the influence of the speaker specific training data and increases the weighting of the UBM.\n",
    "- Then we calculate the expectation value $\\hat{\\mu}_i$ for the training data $X$:\n",
    "$$\\hat{\\mu}_k(X) = \\frac{1}{n_k}\\sum_{t=1}^{T}P(k|x_t)x_t$$\n",
    "- With the factor $\\alpha_i$, the expectation factor for the new speaker model can be computed:\n",
    "$$\\mu_k = \\alpha_k\\hat{\\mu}_k + (1-\\alpha_k)\\mu_{k, UBM}$$\n",
    "- The expectation then can be used to calculate the relation matrix $\\hat{C}_k$:\n",
    "$$\\hat{C}_k = \\frac{1}{n_k}\\sum_{t=1}^{T}P(k|x_t)x_tx_t^T - \\hat{\\mu}_k\\hat{\\mu}_k^T $$\n",
    "- The corresponding weight of the k-th mode:\n",
    "$$\\hat{\\omega}_k = \\frac{1}{T}\\sum_{t=1}^{T}p(k|x_t)$$\n",
    "- with\n",
    "$$\\sum_{k=1}^{K}\\hat{\\omega}_k=1$$\n",
    "- Now we create the Adaption model for the speaker using k-th mode of the UBM and all the \"hat\" parameters above to calculate the parameters of the k-th mode of the Speaker model:\n",
    "$$\\mu_k = \\alpha_k\\hat{\\mu}_k + (1 - \\alpha_k)\\mu_{UBM,k}$$\n",
    "$$C_k = \\alpha_k\\hat{C}_k + (1 - \\alpha_k)C_{UBM,k}$$\n",
    "$$\\omega_k = \\alpha_k\\hat{\\omega}_k + (1 - \\alpha_k)\\omega_{UBM,k}$$"
   ]
  },
  {
   "cell_type": "code",
   "execution_count": 49,
   "metadata": {
    "collapsed": false
   },
   "outputs": [
    {
     "data": {
      "text/plain": [
       "(308, 49)"
      ]
     },
     "execution_count": 49,
     "metadata": {},
     "output_type": "execute_result"
    }
   ],
   "source": [
    "posteriori_mat.shape"
   ]
  },
  {
   "cell_type": "code",
   "execution_count": 50,
   "metadata": {
    "collapsed": false
   },
   "outputs": [
    {
     "data": {
      "text/plain": [
       "(308, 15)"
      ]
     },
     "execution_count": 50,
     "metadata": {},
     "output_type": "execute_result"
    }
   ],
   "source": [
    "feature_vector.shape"
   ]
  },
  {
   "cell_type": "code",
   "execution_count": 51,
   "metadata": {
    "collapsed": true
   },
   "outputs": [],
   "source": [
    "# Calculate weighting of the UBM to current training data\n",
    "# UBM is the general speaker model, now we find the relationship\n",
    "# with the current training speaker: n_k\n",
    "def cal_specific_weight(posteriori_mat, K=49):\n",
    "    n = np.zeros((K, 1))\n",
    "    for i in range(0, K):\n",
    "        n[i] = posteriori_mat[:, i].sum()\n",
    "    return n"
   ]
  },
  {
   "cell_type": "code",
   "execution_count": 52,
   "metadata": {
    "collapsed": false
   },
   "outputs": [
    {
     "data": {
      "text/plain": [
       "(49, 1)"
      ]
     },
     "execution_count": 52,
     "metadata": {},
     "output_type": "execute_result"
    }
   ],
   "source": [
    "n = cal_specific_weight(posteriori_mat)\n",
    "n.shape"
   ]
  },
  {
   "cell_type": "code",
   "execution_count": 53,
   "metadata": {
    "collapsed": true
   },
   "outputs": [],
   "source": [
    "# Calculate all the \"hat\" parameters:\n",
    "def cal_hat_parameters(n, feature_vector, posteriori_mat):\n",
    "    num_mode = posteriori_mat.shape[1]\n",
    "    D = feature_vector.shape[1]\n",
    "    no_frames = feature_vector.shape[0]\n",
    "    mu_hat = np.zeros((num_mode, D))\n",
    "    C_hat = np.zeros((num_mode, D))\n",
    "    omega_hat = n / no_frames # Shape (num_mode, 1)\n",
    "    for k in range(0, num_mode):\n",
    "        n_k = n[k]\n",
    "        temp_pos = repmat(posteriori_mat[:, k], D, 1)\n",
    "        temp_mu = temp_pos.T * feature_vector\n",
    "        mu_hat[k, ] = 1 / n_k * np.sum(temp_mu, axis=0)\n",
    "        temp_C = temp_pos.T * feature_vector**2\n",
    "        temp_C = 1 / n_k * np.sum(temp_C, axis=0)\n",
    "        C_hat[k, ] = temp_C - mu_hat[k,]**2\n",
    "        \n",
    "    return mu_hat, C_hat, omega_hat"
   ]
  },
  {
   "cell_type": "code",
   "execution_count": 54,
   "metadata": {
    "collapsed": false
   },
   "outputs": [],
   "source": [
    "mu_hat, C_hat, omega_hat = cal_hat_parameters(n,feature_vector, posteriori_mat)\n"
   ]
  },
  {
   "cell_type": "code",
   "execution_count": 63,
   "metadata": {
    "collapsed": true
   },
   "outputs": [],
   "source": [
    "def cal_speaker_model_parameters(mu_hat, C_hat, omega_hat,\n",
    "                                 mu_ubm, C_ubm, omega_ubm,\n",
    "                                 n, r=0.1):\n",
    "    alpha = n / (n + r) # Shape: (49, 1)\n",
    "    alpha_rep = repmat(alpha, 1, 15)\n",
    "    mu = alpha_rep * mu_hat + (1 - alpha_rep) * mu_ubm\n",
    "    C = alpha_rep * C_hat + (1 - alpha_rep) * C_ubm\n",
    "    omega = alpha * omega_hat + (1 - alpha) * omega_ubm.T\n",
    "    return mu, C, omega.T"
   ]
  },
  {
   "cell_type": "code",
   "execution_count": 64,
   "metadata": {
    "collapsed": false
   },
   "outputs": [],
   "source": [
    "mu, C, omega = cal_speaker_model_parameters(mu_hat, C_hat, omega_hat,\n",
    "                                           mean_mat, covarience_mat,\n",
    "                                           weight_mat, n)"
   ]
  },
  {
   "cell_type": "markdown",
   "metadata": {},
   "source": [
    "### Speaker Identification\n",
    "- Now we have the new mean ($\\mu$), covarience matrix ($C$), weight ($\\omega$), we call these parameters $\\lambda$ of the model for a specific speaker. They are created using training data, so we have to include the speaker name (folder name) in the model.\n",
    "- After all the training model are applied, we will use test data for testing, and the speaker decision will be made using maximum likelihood, or maximum a posteriori\n",
    "$$log P(X|\\lambda) = \\sum_{t=1}^{T}logp(x_t|\\lambda)$$\n",
    "- and taking the speaker of the most likely model:\n",
    "$$\\hat{s} = argmax(logP(X|\\lambda))$$"
   ]
  },
  {
   "cell_type": "code",
   "execution_count": 65,
   "metadata": {
    "collapsed": true
   },
   "outputs": [],
   "source": [
    "# Create training models:\n",
    "import glob"
   ]
  },
  {
   "cell_type": "code",
   "execution_count": 66,
   "metadata": {
    "collapsed": false
   },
   "outputs": [],
   "source": [
    "all_training_folders = glob.glob(\"forStudents/timit/train/*/*\")\n",
    "user_name = []\n",
    "wav_file = []\n",
    "no_user = len(all_training_folders)\n",
    "for i in all_training_folders:\n",
    "    user_name.append(os.path.basename(i))\n",
    "    wav_file.append(glob.glob(i + '/*.wav'))\n",
    "    \n",
    "all_test_folders = glob.glob(\"forStudents/timit/test/*/*\")\n",
    "user_name_test = []\n",
    "wav_file_test = []\n",
    "for i in all_test_folders:\n",
    "    user_name_test.append(os.path.basename(i))\n",
    "    wav_file_test.append(glob.glob(i + '/*.wav'))\n",
    "no_test_user = len(all_test_folders)"
   ]
  },
  {
   "cell_type": "code",
   "execution_count": 67,
   "metadata": {
    "collapsed": false
   },
   "outputs": [
    {
     "data": {
      "text/plain": [
       "170"
      ]
     },
     "execution_count": 67,
     "metadata": {},
     "output_type": "execute_result"
    }
   ],
   "source": [
    "no_test_user"
   ]
  },
  {
   "cell_type": "code",
   "execution_count": 68,
   "metadata": {
    "collapsed": false
   },
   "outputs": [],
   "source": [
    "# Read UBM files\n",
    "# Read UBM file:\n",
    "ubm = loadmat('forStudents/ubm/UBM_GMMNaive_MFCC_Spectrum0to8000Hz.mat')\n",
    "ubm_mean = ubm['means']\n",
    "ubm_weight = ubm['weights']\n",
    "ubm_var = ubm['var']"
   ]
  },
  {
   "cell_type": "code",
   "execution_count": 147,
   "metadata": {
    "collapsed": false
   },
   "outputs": [],
   "source": [
    "# Train all speakers using the TEST set!\n",
    "frame_list = []\n",
    "speaker_model = []\n",
    "mel_fbank = mel_filter_bank(no_filters=22)\n",
    "for i, wav_list in enumerate(wav_file_test):\n",
    "    init=0\n",
    "    for k in wav_list[0:9]:\n",
    "        data_temp = wavfile.read(k)\n",
    "        # Segment all wave files to small frames\n",
    "        frame_matrix, no_frame = frame_segment(data_temp[1])\n",
    "        # We need to detect voice activity\n",
    "        frame_matrix = frames_with_voice(frame_matrix,\n",
    "                                        gamma=17)\n",
    "        if init==0:\n",
    "            frame_temp = frame_matrix\n",
    "            init += 1\n",
    "        else:\n",
    "            frame_temp = np.vstack((frame_temp, frame_matrix))\n",
    "    # Now frame_temp is the frame matrix of each user, we \n",
    "    # will use it for training the model:\n",
    "    # First, we need to calculate power spectrum of the\n",
    "    # voiced frames:\n",
    "    power_spectrum = cal_power_spectrum(frame_temp,\n",
    "                                       frame_length=320)\n",
    "    # Then, we need to apply the mel_fbank to the power\n",
    "    # spectrum to extract the feature vector:\n",
    "    feature_vector = extract_features(mel_fbank, \n",
    "                                     power_spectrum)\n",
    "    # Next, we need to calculate the likelihood:\n",
    "    ml_mat = gaussian_ml_mvn(feature_vector, ubm_mean,\n",
    "                            ubm_var)\n",
    "    # Then, we calculate the evidence matrix:\n",
    "    evidence_mat = cal_evidence_mat(feature_vector,\n",
    "                                   ml_mat, ubm_weight)\n",
    "    # Now, we calculate the posteriori matrix:\n",
    "    posteriori_mat = cal_posteriori_mat_opt(feature_vector,\n",
    "                                           ml_mat,\n",
    "                                           evidence_mat,\n",
    "                                           ubm_weight)\n",
    "    # Calculate n: specific weight\n",
    "    n = cal_specific_weight(posteriori_mat, K=49)\n",
    "    # Calculate hat parameters:\n",
    "    mu_hat, C_hat, omega_hat = cal_hat_parameters(n, \n",
    "                                                 feature_vector,\n",
    "                                                 posteriori_mat)\n",
    "    # Finally, calculate speaker model:\n",
    "    mu, C, omega = cal_speaker_model_parameters(mu_hat,\n",
    "                                                C_hat,\n",
    "                                                omega_hat,\n",
    "                                                ubm_mean,\n",
    "                                                ubm_var,\n",
    "                                                ubm_weight,\n",
    "                                                n, r=0.1)\n",
    "    speaker_model.append([mu, C, omega])\n",
    "        "
   ]
  },
  {
   "cell_type": "code",
   "execution_count": 148,
   "metadata": {
    "collapsed": true
   },
   "outputs": [],
   "source": [
    "feature_vector_list = []\n",
    "for i, wav_list in enumerate(wav_file_test):\n",
    "    init=0\n",
    "    k = wav_list[9]\n",
    "    data_temp = wavfile.read(k)\n",
    "    # Segment all wave files to small frames\n",
    "    frame_matrix, no_frame = frame_segment(data_temp[1])\n",
    "    # We need to detect voice activity\n",
    "    frame_matrix = frames_with_voice(frame_matrix,\n",
    "                                    gamma=17)\n",
    "    if init==0:\n",
    "        frame_temp = frame_matrix\n",
    "        init += 1\n",
    "    else:\n",
    "        frame_temp = np.vstack((frame_temp, frame_matrix))\n",
    "    # Now frame_temp is the frame matrix of each user, we \n",
    "    # will use it for training the model:\n",
    "    # First, we need to calculate power spectrum of the\n",
    "    # voiced frames:\n",
    "    power_spectrum = cal_power_spectrum(frame_temp,\n",
    "                                       frame_length=320)\n",
    "    # Then, we need to apply the mel_fbank to the power\n",
    "    # spectrum to extract the feature vector:\n",
    "    feature_vector = extract_features(mel_fbank, \n",
    "                                     power_spectrum)\n",
    "    feature_vector_list.append(feature_vector)"
   ]
  },
  {
   "cell_type": "code",
   "execution_count": 149,
   "metadata": {
    "collapsed": true
   },
   "outputs": [],
   "source": [
    "import operator\n",
    "def predict_using_map(speaker_model, feature_vector):\n",
    "    evidence_list = []\n",
    "    for i, model in enumerate(speaker_model):  \n",
    "        mu, C, omega = model\n",
    "        ml_mat = gaussian_ml_mvn(feature_vector, mu, C)\n",
    "        evidence_mat = cal_evidence_mat(feature_vector, \n",
    "                                        ml_mat, omega)\n",
    "        evidence_mat = np.log(evidence_mat)\n",
    "        evidence_list.append(evidence_mat.sum())\n",
    "    index, value = max(enumerate(evidence_list),\n",
    "                      key=operator.itemgetter(1))\n",
    "    return index, value\n",
    "        \n",
    "        "
   ]
  },
  {
   "cell_type": "code",
   "execution_count": 156,
   "metadata": {
    "collapsed": false
   },
   "outputs": [],
   "source": [
    "index, value = predict_using_map(speaker_model, feature_vector_list[15])"
   ]
  },
  {
   "cell_type": "code",
   "execution_count": 157,
   "metadata": {
    "collapsed": false
   },
   "outputs": [
    {
     "data": {
      "text/plain": [
       "'fjwb0'"
      ]
     },
     "execution_count": 157,
     "metadata": {},
     "output_type": "execute_result"
    }
   ],
   "source": [
    "user_name_test[index]"
   ]
  },
  {
   "cell_type": "code",
   "execution_count": 158,
   "metadata": {
    "collapsed": false
   },
   "outputs": [
    {
     "data": {
      "text/plain": [
       "15"
      ]
     },
     "execution_count": 158,
     "metadata": {},
     "output_type": "execute_result"
    }
   ],
   "source": [
    "index"
   ]
  },
  {
   "cell_type": "code",
   "execution_count": null,
   "metadata": {
    "collapsed": true
   },
   "outputs": [],
   "source": []
  }
 ],
 "metadata": {
  "kernelspec": {
   "display_name": "py35",
   "language": "python",
   "name": "py35"
  },
  "language_info": {
   "codemirror_mode": {
    "name": "ipython",
    "version": 3
   },
   "file_extension": ".py",
   "mimetype": "text/x-python",
   "name": "python",
   "nbconvert_exporter": "python",
   "pygments_lexer": "ipython3",
   "version": "3.5.2"
  }
 },
 "nbformat": 4,
 "nbformat_minor": 0
}
