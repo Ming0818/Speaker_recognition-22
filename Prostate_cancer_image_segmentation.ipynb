{
 "cells": [
  {
   "cell_type": "code",
   "execution_count": 1,
   "metadata": {
    "collapsed": true
   },
   "outputs": [],
   "source": [
    "import sys, os\n",
    "\n",
    "sys.path.append(os.path.abspath(\"forStudents\"))\n",
    "sys.path.append(os.path.abspath(\"Images\"))"
   ]
  },
  {
   "cell_type": "code",
   "execution_count": 2,
   "metadata": {
    "collapsed": true
   },
   "outputs": [],
   "source": [
    "import numpy as np\n",
    "from scipy.io import loadmat"
   ]
  },
  {
   "cell_type": "code",
   "execution_count": 3,
   "metadata": {
    "collapsed": true
   },
   "outputs": [],
   "source": [
    "import matplotlib.pyplot as plt\n",
    "\n",
    "%matplotlib inline"
   ]
  },
  {
   "cell_type": "code",
   "execution_count": 4,
   "metadata": {
    "collapsed": true
   },
   "outputs": [],
   "source": [
    "dataset = loadmat('forStudents/dataset.mat')"
   ]
  },
  {
   "cell_type": "code",
   "execution_count": 11,
   "metadata": {
    "collapsed": false
   },
   "outputs": [
    {
     "data": {
      "text/plain": [
       "dict"
      ]
     },
     "execution_count": 11,
     "metadata": {},
     "output_type": "execute_result"
    }
   ],
   "source": [
    "type(dataset)"
   ]
  },
  {
   "cell_type": "code",
   "execution_count": 56,
   "metadata": {
    "collapsed": false
   },
   "outputs": [
    {
     "data": {
      "text/plain": [
       "array([[array(['ADC'], \n",
       "      dtype='<U3'),\n",
       "        array(['Ktrans'], \n",
       "      dtype='<U6'),\n",
       "        array(['Kep'], \n",
       "      dtype='<U3'),\n",
       "        array(['PET'], \n",
       "      dtype='<U3'),\n",
       "        array(['T2'], \n",
       "      dtype='<U2')]], dtype=object)"
      ]
     },
     "execution_count": 56,
     "metadata": {},
     "output_type": "execute_result"
    }
   ],
   "source": [
    "dataset['dataset'][0, 0][0, 0][5]"
   ]
  },
  {
   "cell_type": "markdown",
   "metadata": {},
   "source": [
    "### Dataset description:\n",
    "- dataset['dataset'].shape = (14, 1)\n",
    "- e.g: dataset['dataset'][0, 0][0, 0][0-5]:\n",
    "- Each of 14 dataset which last index:\n",
    "    - 0: Image (4-D double)\n",
    "    - 1: LabelsA (3D double)\n",
    "    - 2: LabelsB (3D double)\n",
    "    - 3: labelsHisto (array)\n",
    "    - 4: patientIdx (id of patient, int)\n",
    "    - 5: featureList (1x5 cell, include: T2, ADC, Ktrans, Kep, PET)"
   ]
  },
  {
   "cell_type": "markdown",
   "metadata": {},
   "source": [
    "### The medical Dataset\n",
    "- Each of the 14 consists of 5 different 3D images derived from Positron Emission Tomography (PET) and from Magnetic Resonance Tomography (MRT).\n",
    "- Each of those images represents a cubic around the prostate of the patient. Each of the 2D images at a fixed z-coordinate are referred as slices:\n",
    "<img src='Images/cancer/1_3D_image.JPG' width='300'>\n",
    "- Each patient has different size of images, vary from 34x41x31 and 320x320x43 pixels per image.\n",
    "- For each patient $k$, the dimensions $d_k = (l_k, m_k, n_k)$ of all 5 3D images are equal.\n",
    "- Each image contains 35000 3D pixels.\n",
    "- The images are:\n",
    "    - T2 weighted MR image\n",
    "    - Apparent diffusion coefficient (ADC) map\n",
    "    - $K_{trans}$ map\n",
    "    - $K_{ep}$ map\n",
    "    - PET map\n",
    "    <img src='Images/cancer/2_image_types.JPG' width='450'>\n",
    "\n",
    "### T2 weighted MR images\n",
    "- Structure and composition of the tissue is visualized in T2 weighted MR images.\n",
    "- Tissue which is rich of waters appears bright in MR images, while the less water as well as fat or bone appear dark.\n",
    "- Cancer means many cells overlap, so it will not contain much water. Therefore, those cancer cells also have low signal intensity:\n",
    "<img src='Images/cancer/3_T2_histogram.JPG' width='450'>\n",
    "- According to the histogram, the 2 peaks at intensity 2e4 and 3.5e4 represent the cancer and non-cancer tissue. However, the separation seems inpractical because the distributions of the intensity cancer and non-cancer shows a significant overlap.\n",
    "\n",
    "### The apparent diffusion coefficient (ADC)\n",
    "- ADC map measures the rate of diffusion of liquids through the tissue:\n",
    "<img src='Images/cancer/4_ADC.JPG' width='350'>\n",
    "- For each point, the ADC describes how fast liquids are abel to move in 3 Spatial Directions. 3 rates of diffusion: $D_x(x,y,z)$, $D_y(x,y,z)$ and $D_z(x,y,z)$.\n",
    "- Absolute rate of diffusion:\n",
    "$$D(x,y,z)=\\sqrt{D_x^2 + D_y^2 + D_z^2}$$\n",
    "- Rate of diffusion through cancer tissue is slower than in healthy issue. So, cancer cells appear dark, while the healthy ones appear bright:\n",
    "<img src='Images/cancer/5_ADC_histogram.JPG' width='400'>\n",
    "- Mean of ADC for healthy tissue: 1300 < $\\mu_{ADC}$ < 1600\n",
    "- Mean value for ADC of cancer tissue is by a factor $c$ lower with 0.4 < $c$ < 0.7.\n",
    "\n",
    "### Diffusion parameters $K_{trans}$ and $K_{ep}$\n",
    "- Also describe diffusion rates in the tissues but in different methods. They describe how chemical substances like drugs or contrast agents are brought into and out of those compartments.\n",
    "<img src='Images/cancer/6_K.JPG' width='400'>\n",
    "- $K_{trans}$ describes how fast the tracer (chemical substances) moves out of the blood plasma (IES) into the tissue (EES). \n",
    "- $K_{ep}$ is the rate of diffusion into the opposite direction and therefore describes how fast the tracer is flushed out of the tissue.\n",
    "- Diffusion rate is calculated by solving the differential equation:\n",
    "<img src='Images/cancer/7_K_de.JPG' width='400'>\n",
    "- where $C_p(t)$ is the concentration of the tracer in plasma \n",
    "- $C_t(t)$ is the concentration of the tracer in the blood plasma.\n",
    "- Higher the concentration $C_p(t)$, faster tracer moves into the tissue. If $C_t(t) - v_pC_p(t)$ is big, the tracer will move fast out of the tissue back into the blood plasma.\n",
    "- Studies show that both diffusion parameters are **higher** in cancer tissue. Hence, the $k_{trans}$ and $k_{ep}$ map are **bright** in regions of cancer tissue.\n",
    "- However, the two classes are not separable as shown in histogram:\n",
    "<img src='Images/cancer/8_K_histogram.JPG' width='400'>\n",
    "\n",
    "### Positron Emission Tomography (PET) map\n",
    "- Before measurement, a radioactive substance (tracer) is injected into the patients body. After injection, tracer spreads in the body of the patient and the cells start to accumulate the tracer through their normal metabolism. \n",
    "- Then patient will be placed in PET scanner which measures the local radioactivity of the patients tissue.\n",
    "- High signal intensities = high levels of radiation and are marked red. And they are also cancer tissues.\n",
    "- Low signal intensities = healthy tissues.\n",
    "<img src='Images/cancer/9_PET.JPG' width='450'>\n",
    "<img src='Images/cancer/10_PET_histogram.JPG' width='400'>\n",
    "- Problem: \n",
    "    - Rate the tracer is absorbed in the tissue depends on the level of blood sugar. High level = less tracer is absorbed, so the distribution is shifted to the **left**\n",
    "    - Rate of absortion depends on the time passed between injection of the tracer and measurement. The measurements are only comparable if time "
   ]
  },
  {
   "cell_type": "markdown",
   "metadata": {
    "collapsed": true
   },
   "source": [
    "### Ground truth (how the tissues are labeled correctly)\n",
    "- 2 maps composed of manual labels $m_1$ and $m_2$ are available for each patient. They have been created by cancer experts. For patients 12 - 14 (14 patients in total, 1 - 11 used for training, and 12 - 14 for testing), there exists one additional map $m_3$ which is the histological analysis of the prostate.\n",
    "- $$m_k = \\begin{cases} \n",
    "      0 & \\textrm{non-prostate tissue} \\\\\n",
    "      1 & \\textrm{healthy prostate tissue} \\\\\n",
    "      2 & \\textrm{cancer prostate tissue} \n",
    "   \\end{cases}$$\n",
    "<img src='Images/cancer/11_labels.JPG' width='400'>\n",
    "- The expert labels are only trusted if both cancer experts agree. It means in both maps, the labels have to be the same or 0:\n",
    "$$m_c = \\begin{cases} \n",
    "    0 & m_1 \\neq m_2 \\\\\n",
    "    m_1 & m_1 = m_2\n",
    "\\end{cases}$$"
   ]
  },
  {
   "cell_type": "markdown",
   "metadata": {},
   "source": [
    "### Implementation pipeline\n",
    "<img src='Images/cancer/12_pipeline.JPG' width='400'>\n",
    "- Voxel-wise classification: which voxel (cell) is cancer, which is non-cancer.\n",
    "- Light gray: already been done, dark: to be done\n",
    "\n",
    "### Extract prostate region:\n",
    "- Only take prostate tissue regions. The outside should be isolated from the whole dataset. \n",
    "- **Task**: implement functions to isolate feature vectors belonging to prostate tissue from the whole dataset. Think of a way to transform a T2 weighted MR image such to make it a usefull feature for classification. This can ,for example, be achieved by scaling the dynamic range of the MR image to the range [0,1]."
   ]
  },
  {
   "cell_type": "code",
   "execution_count": 57,
   "metadata": {
    "collapsed": true
   },
   "outputs": [],
   "source": [
    "# Function to isolate prostate region\n",
    "patients = []\n",
    "for i in range(0, 14):\n",
    "    patients.append(dataset['dataset'][i, 0][0, 0])"
   ]
  },
  {
   "cell_type": "code",
   "execution_count": 116,
   "metadata": {
    "collapsed": false
   },
   "outputs": [
    {
     "data": {
      "text/plain": [
       "3"
      ]
     },
     "execution_count": 116,
     "metadata": {},
     "output_type": "execute_result"
    }
   ],
   "source": [
    "patients[0][0][:,:,:,0].ndim"
   ]
  },
  {
   "cell_type": "code",
   "execution_count": 282,
   "metadata": {
    "collapsed": true
   },
   "outputs": [],
   "source": [
    "# Def visualizing images:\n",
    "def visualize_img(img, feature_no, slice_no):\n",
    "    assert img.ndim == 4 or img.ndim == 3, 'Input image must be 3D or 4D'\n",
    "    assert slice_no < img.shape[2], 'z-slice_nr must be less than z-size'\n",
    "    if img.ndim == 4:\n",
    "        assert feature_no <= 4, 'Feature number is between 0 - 4'\n",
    "        img = img[:, :, slice_no, feature_no]\n",
    "    else:\n",
    "        img = img[:, :, slice_no]\n",
    "    plt.imshow(img)\n",
    "    plt.colorbar()\n",
    "    \n",
    "    "
   ]
  },
  {
   "cell_type": "code",
   "execution_count": 131,
   "metadata": {
    "collapsed": true
   },
   "outputs": [],
   "source": [
    "def extract_ground_truth(img_a, img_b):\n",
    "    assert img_a.ndim == 3 and img_b.ndim == 3 and img_a.shape == img_b.shape\n",
    "    mask = img_a == img_b\n",
    "    m_c = img_b * mask\n",
    "    segment_mask = m_c > 0\n",
    "    return m_c, segment_mask\n",
    "    "
   ]
  },
  {
   "cell_type": "code",
   "execution_count": 132,
   "metadata": {
    "collapsed": true
   },
   "outputs": [],
   "source": [
    "m_c, segment_mask = extract_ground_truth(patients[0][1], patients[0][2])"
   ]
  },
  {
   "cell_type": "markdown",
   "metadata": {},
   "source": [
    "### Feature normalization\n",
    "- Feature Scaling is important, so that we can have the same range between the features, even they are obtained by different methods.\n",
    "- There are some normalization techniques:\n",
    "    - Scale each dimension of the feature vector to zero mean\n",
    "    and unit variance:\n",
    "    $$\\tilde{x_k} = \\frac{x_k - \\mu_k}{\\sigma_k}$$\n",
    "    - Scale each dimension of the feature vector x to unit dynamic range [0, 1]:\n",
    "    $$\\tilde{x_k} = \\frac{x_k - min(x_k)}{max(x_k) - min(x_k)}$$\n",
    "    - Scale the feature vector to unit vector length\n",
    "    $$\\tilde{x} = \\frac{x}{||x||}$$"
   ]
  },
  {
   "cell_type": "code",
   "execution_count": 273,
   "metadata": {
    "collapsed": true
   },
   "outputs": [],
   "source": [
    "# Transform a feature image to make it useful feature\n",
    "# by scaling the dynamic range of the image to the range [0, 1]\n",
    "def feature_scaling(img, method=2):\n",
    "    assert img.ndim == 3    \n",
    "    if method == 2:\n",
    "        # Scale to dynamic range [0, 1]\n",
    "        max_ = img.max()\n",
    "        min_ = img.min()\n",
    "        img = (img - min_) / (max_ - min_)\n",
    "    elif method == 1:\n",
    "        # Scale to zero mean and unit variance\n",
    "        std_deviation = np.std(img)\n",
    "        mean = np.mean(img)\n",
    "        img = (img - mean) / std_deviation\n",
    "    else:\n",
    "        # Scale the feature vector to unit vector length\n",
    "        img = img / np.linalg.norm(img)\n",
    "        \n",
    "    return img"
   ]
  },
  {
   "cell_type": "markdown",
   "metadata": {},
   "source": [
    "### Dataset partitioning\n",
    "- 0 - 10 is for training\n",
    "- 11 - 13 is for testing\n",
    "- Only dataset 11 - 13 contain accurate ground truth (labelsHisto)"
   ]
  },
  {
   "cell_type": "code",
   "execution_count": 138,
   "metadata": {
    "collapsed": true
   },
   "outputs": [],
   "source": [
    "training_set = patients[:10]"
   ]
  },
  {
   "cell_type": "code",
   "execution_count": 150,
   "metadata": {
    "collapsed": true
   },
   "outputs": [],
   "source": [
    "test_set = patients[11:]"
   ]
  },
  {
   "cell_type": "code",
   "execution_count": 294,
   "metadata": {
    "collapsed": false
   },
   "outputs": [
    {
     "data": {
      "image/png": "[encoded data removed]",
      "text/plain": [
       "<matplotlib.figure.Figure at 0x2348c660160>"
      ]
     },
     "metadata": {},
     "output_type": "display_data"
    }
   ],
   "source": [
    "visualize_img(extract_ground_truth(training_set[0][1], training_set[0][2])[0], 50, 22)"
   ]
  },
  {
   "cell_type": "code",
   "execution_count": 263,
   "metadata": {
    "collapsed": false
   },
   "outputs": [],
   "source": [
    "def plot_histogram(img, bins=100):\n",
    "    #assert img.ndim == 3 or img.ndim == 4\n",
    "    hist, bins_edge= np.histogram(img, bins=bins);\n",
    "    plt.plot(bins_edge[1:-1], hist[1:], '-')"
   ]
  },
  {
   "cell_type": "code",
   "execution_count": 275,
   "metadata": {
    "collapsed": false
   },
   "outputs": [
    {
     "data": {
      "image/png": "[encoded data removed]",
      "text/plain": [
       "<matplotlib.figure.Figure at 0x2348abd6e80>"
      ]
     },
     "metadata": {},
     "output_type": "display_data"
    }
   ],
   "source": [
    "plot_histogram(feature_scaling(patients[0][0][:,:, :, 4], 3)[:,:,3])"
   ]
  },
  {
   "cell_type": "markdown",
   "metadata": {},
   "source": [
    "### Outlier detection and Removal\n",
    "- Source: Unmasking Multivariate Outliers and Leverage Points - Peter J.Rousseeuw\n",
    "- **Outliers:** observations that do not follow the pattern of the majority of the data. It is hard to detect when the dimension *p* exceeds 2, because we cannot rely on visual perception.\n",
    "- Classical method: compute **Mahalanobis distance** for each point $x_i$:\n",
    "$$MD_i = \\sqrt{(x_i - T(X))C(X)^{-1}(x_i-T(X))^T}$$\n",
    "- where $T(X)$ is the arithmetic mean of the dataset X\n",
    "\n",
    "- $C(X)$ is the usual sample covariance matrix.\n",
    "- Distance $MD_i$: how far $x_i$ is from the center of the cloud, and taking into account the shape of the cloud as well.\n",
    "- This approach suffers from the masking effect, by which multiple outliers do not necessarily have a large $MD_i$.\n",
    "<img src='Images/cancer/13_outliers.JPG' width='400'>\n",
    "- Therefore, we have to have a *robust* estimator ($C(X)$ and $T(X)$ are not robust)\n",
    "\n",
    "#### Leverage points in regression:\n",
    "- *leverage points*: cases for which $x_i$ is far away from the bulk of the $x_i$ in the data.\n",
    "- They occur frequently when $x_i$ are observational, unlike \"designed\" situations with fixed $x_i$."
   ]
  },
  {
   "cell_type": "code",
   "execution_count": null,
   "metadata": {
    "collapsed": true
   },
   "outputs": [],
   "source": []
  }
 ],
 "metadata": {
  "kernelspec": {
   "display_name": "py35",
   "language": "python",
   "name": "py35"
  },
  "language_info": {
   "codemirror_mode": {
    "name": "ipython",
    "version": 3
   },
   "file_extension": ".py",
   "mimetype": "text/x-python",
   "name": "python",
   "nbconvert_exporter": "python",
   "pygments_lexer": "ipython3",
   "version": "3.5.2"
  }
 },
 "nbformat": 4,
 "nbformat_minor": 2
}
